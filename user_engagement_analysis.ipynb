{
 "cells": [
  {
   "cell_type": "code",
   "execution_count": 51,
   "metadata": {},
   "outputs": [],
   "source": [
    "import numpy as np\n",
    "import pandas as pd\n",
    "import seaborn as sns\n",
    "import matplotlib.pyplot as plt\n",
    "import matplotlib.image as mpimg\n",
    "from matplotlib import pyplot, dates\n",
    "from datetime import datetime\n",
    "import warnings\n",
    "warnings. filterwarnings('ignore')\n",
    "from pandas.plotting import table\n",
    "from datetime import datetime\n",
    "from datetime import date\n",
    "import calendar"
   ]
  },
  {
   "cell_type": "code",
   "execution_count": 10,
   "metadata": {},
   "outputs": [
    {
     "data": {
      "text/html": [
       "<div>\n",
       "<style scoped>\n",
       "    .dataframe tbody tr th:only-of-type {\n",
       "        vertical-align: middle;\n",
       "    }\n",
       "\n",
       "    .dataframe tbody tr th {\n",
       "        vertical-align: top;\n",
       "    }\n",
       "\n",
       "    .dataframe thead th {\n",
       "        text-align: right;\n",
       "    }\n",
       "</style>\n",
       "<table border=\"1\" class=\"dataframe\">\n",
       "  <thead>\n",
       "    <tr style=\"text-align: right;\">\n",
       "      <th></th>\n",
       "      <th>session_id</th>\n",
       "      <th>customer_id</th>\n",
       "      <th>login_date</th>\n",
       "      <th>projects_added</th>\n",
       "      <th>likes_given</th>\n",
       "      <th>comment_given</th>\n",
       "      <th>inactive_status</th>\n",
       "      <th>bug_occured</th>\n",
       "      <th>session_projects_added</th>\n",
       "      <th>session_likes_given</th>\n",
       "      <th>session_comments_given</th>\n",
       "      <th>inactive_duration</th>\n",
       "      <th>bugs_in_session</th>\n",
       "      <th>session_duration</th>\n",
       "    </tr>\n",
       "  </thead>\n",
       "  <tbody>\n",
       "    <tr>\n",
       "      <th>0</th>\n",
       "      <td>624205.0</td>\n",
       "      <td>80746.0</td>\n",
       "      <td>10/30/19</td>\n",
       "      <td>False</td>\n",
       "      <td>True</td>\n",
       "      <td>True</td>\n",
       "      <td>True</td>\n",
       "      <td>False</td>\n",
       "      <td>0.0</td>\n",
       "      <td>24.0</td>\n",
       "      <td>3.0</td>\n",
       "      <td>1146.0</td>\n",
       "      <td>0.0</td>\n",
       "      <td>1564.0</td>\n",
       "    </tr>\n",
       "    <tr>\n",
       "      <th>1</th>\n",
       "      <td>624241.0</td>\n",
       "      <td>24520.0</td>\n",
       "      <td>10/30/19</td>\n",
       "      <td>True</td>\n",
       "      <td>True</td>\n",
       "      <td>True</td>\n",
       "      <td>True</td>\n",
       "      <td>False</td>\n",
       "      <td>2.0</td>\n",
       "      <td>3.0</td>\n",
       "      <td>5.0</td>\n",
       "      <td>133.0</td>\n",
       "      <td>0.0</td>\n",
       "      <td>1766.0</td>\n",
       "    </tr>\n",
       "    <tr>\n",
       "      <th>2</th>\n",
       "      <td>111002.0</td>\n",
       "      <td>32047.0</td>\n",
       "      <td>10/30/19</td>\n",
       "      <td>True</td>\n",
       "      <td>True</td>\n",
       "      <td>True</td>\n",
       "      <td>True</td>\n",
       "      <td>False</td>\n",
       "      <td>1.0</td>\n",
       "      <td>5.0</td>\n",
       "      <td>5.0</td>\n",
       "      <td>1571.0</td>\n",
       "      <td>0.0</td>\n",
       "      <td>2230.0</td>\n",
       "    </tr>\n",
       "    <tr>\n",
       "      <th>3</th>\n",
       "      <td>545113.0</td>\n",
       "      <td>23404.0</td>\n",
       "      <td>10/30/19</td>\n",
       "      <td>True</td>\n",
       "      <td>True</td>\n",
       "      <td>True</td>\n",
       "      <td>False</td>\n",
       "      <td>False</td>\n",
       "      <td>1.0</td>\n",
       "      <td>10.0</td>\n",
       "      <td>21.0</td>\n",
       "      <td>0.0</td>\n",
       "      <td>0.0</td>\n",
       "      <td>633.0</td>\n",
       "    </tr>\n",
       "    <tr>\n",
       "      <th>4</th>\n",
       "      <td>750269.0</td>\n",
       "      <td>40235.0</td>\n",
       "      <td>10/30/19</td>\n",
       "      <td>True</td>\n",
       "      <td>True</td>\n",
       "      <td>False</td>\n",
       "      <td>True</td>\n",
       "      <td>False</td>\n",
       "      <td>3.0</td>\n",
       "      <td>16.0</td>\n",
       "      <td>0.0</td>\n",
       "      <td>1405.0</td>\n",
       "      <td>0.0</td>\n",
       "      <td>1679.0</td>\n",
       "    </tr>\n",
       "  </tbody>\n",
       "</table>\n",
       "</div>"
      ],
      "text/plain": [
       "   session_id  customer_id login_date projects_added likes_given  \\\n",
       "0    624205.0      80746.0   10/30/19          False        True   \n",
       "1    624241.0      24520.0   10/30/19           True        True   \n",
       "2    111002.0      32047.0   10/30/19           True        True   \n",
       "3    545113.0      23404.0   10/30/19           True        True   \n",
       "4    750269.0      40235.0   10/30/19           True        True   \n",
       "\n",
       "  comment_given inactive_status bug_occured  session_projects_added  \\\n",
       "0          True            True       False                     0.0   \n",
       "1          True            True       False                     2.0   \n",
       "2          True            True       False                     1.0   \n",
       "3          True           False       False                     1.0   \n",
       "4         False            True       False                     3.0   \n",
       "\n",
       "   session_likes_given  session_comments_given  inactive_duration  \\\n",
       "0                 24.0                     3.0             1146.0   \n",
       "1                  3.0                     5.0              133.0   \n",
       "2                  5.0                     5.0             1571.0   \n",
       "3                 10.0                    21.0                0.0   \n",
       "4                 16.0                     0.0             1405.0   \n",
       "\n",
       "   bugs_in_session  session_duration  \n",
       "0              0.0            1564.0  \n",
       "1              0.0            1766.0  \n",
       "2              0.0            2230.0  \n",
       "3              0.0             633.0  \n",
       "4              0.0            1679.0  "
      ]
     },
     "execution_count": 10,
     "metadata": {},
     "output_type": "execute_result"
    }
   ],
   "source": [
    "project = pd.read_csv('showwcase_sessions.csv')\n",
    "project.head(5)"
   ]
  },
  {
   "cell_type": "code",
   "execution_count": 11,
   "metadata": {},
   "outputs": [
    {
     "name": "stdout",
     "output_type": "stream",
     "text": [
      "<class 'pandas.core.frame.DataFrame'>\n",
      "RangeIndex: 302 entries, 0 to 301\n",
      "Data columns (total 14 columns):\n",
      " #   Column                  Non-Null Count  Dtype  \n",
      "---  ------                  --------------  -----  \n",
      " 0   session_id              300 non-null    float64\n",
      " 1   customer_id             300 non-null    float64\n",
      " 2   login_date              300 non-null    object \n",
      " 3   projects_added          300 non-null    object \n",
      " 4   likes_given             300 non-null    object \n",
      " 5   comment_given           300 non-null    object \n",
      " 6   inactive_status         300 non-null    object \n",
      " 7   bug_occured             300 non-null    object \n",
      " 8   session_projects_added  300 non-null    float64\n",
      " 9   session_likes_given     299 non-null    float64\n",
      " 10  session_comments_given  300 non-null    float64\n",
      " 11  inactive_duration       300 non-null    float64\n",
      " 12  bugs_in_session         300 non-null    float64\n",
      " 13  session_duration        300 non-null    float64\n",
      "dtypes: float64(8), object(6)\n",
      "memory usage: 33.2+ KB\n"
     ]
    }
   ],
   "source": [
    "project.info()"
   ]
  },
  {
   "cell_type": "markdown",
   "metadata": {},
   "source": [
    "\n",
    "# Dropping bottom two rows with null values for all columns "
   ]
  },
  {
   "cell_type": "code",
   "execution_count": 12,
   "metadata": {},
   "outputs": [],
   "source": [
    "project.dropna(axis=0, how='all', inplace=True)"
   ]
  },
  {
   "cell_type": "markdown",
   "metadata": {},
   "source": [
    "# Replacing the null value in sessions_likes_given column with 0"
   ]
  },
  {
   "cell_type": "code",
   "execution_count": 13,
   "metadata": {},
   "outputs": [
    {
     "name": "stdout",
     "output_type": "stream",
     "text": [
      "<class 'pandas.core.frame.DataFrame'>\n",
      "Int64Index: 300 entries, 0 to 299\n",
      "Data columns (total 14 columns):\n",
      " #   Column                  Non-Null Count  Dtype  \n",
      "---  ------                  --------------  -----  \n",
      " 0   session_id              300 non-null    float64\n",
      " 1   customer_id             300 non-null    float64\n",
      " 2   login_date              300 non-null    object \n",
      " 3   projects_added          300 non-null    object \n",
      " 4   likes_given             300 non-null    object \n",
      " 5   comment_given           300 non-null    object \n",
      " 6   inactive_status         300 non-null    object \n",
      " 7   bug_occured             300 non-null    object \n",
      " 8   session_projects_added  300 non-null    float64\n",
      " 9   session_likes_given     300 non-null    float64\n",
      " 10  session_comments_given  300 non-null    float64\n",
      " 11  inactive_duration       300 non-null    float64\n",
      " 12  bugs_in_session         300 non-null    float64\n",
      " 13  session_duration        300 non-null    float64\n",
      "dtypes: float64(8), object(6)\n",
      "memory usage: 35.2+ KB\n"
     ]
    }
   ],
   "source": [
    "project['session_likes_given'] = project['session_likes_given'].fillna(0)\n",
    "project.info()"
   ]
  },
  {
   "cell_type": "code",
   "execution_count": 15,
   "metadata": {},
   "outputs": [
    {
     "data": {
      "text/html": [
       "<div>\n",
       "<style scoped>\n",
       "    .dataframe tbody tr th:only-of-type {\n",
       "        vertical-align: middle;\n",
       "    }\n",
       "\n",
       "    .dataframe tbody tr th {\n",
       "        vertical-align: top;\n",
       "    }\n",
       "\n",
       "    .dataframe thead th {\n",
       "        text-align: right;\n",
       "    }\n",
       "</style>\n",
       "<table border=\"1\" class=\"dataframe\">\n",
       "  <thead>\n",
       "    <tr style=\"text-align: right;\">\n",
       "      <th></th>\n",
       "      <th>session_id</th>\n",
       "      <th>customer_id</th>\n",
       "      <th>session_projects_added</th>\n",
       "      <th>session_likes_given</th>\n",
       "      <th>session_comments_given</th>\n",
       "      <th>inactive_duration</th>\n",
       "      <th>bugs_in_session</th>\n",
       "      <th>session_duration</th>\n",
       "    </tr>\n",
       "  </thead>\n",
       "  <tbody>\n",
       "    <tr>\n",
       "      <th>count</th>\n",
       "      <td>300.000000</td>\n",
       "      <td>300.000000</td>\n",
       "      <td>300.000000</td>\n",
       "      <td>300.000000</td>\n",
       "      <td>300.000000</td>\n",
       "      <td>300.000000</td>\n",
       "      <td>300.000000</td>\n",
       "      <td>300.000000</td>\n",
       "    </tr>\n",
       "    <tr>\n",
       "      <th>mean</th>\n",
       "      <td>530643.296667</td>\n",
       "      <td>44956.766667</td>\n",
       "      <td>1.620000</td>\n",
       "      <td>10.423333</td>\n",
       "      <td>2.406667</td>\n",
       "      <td>732.933333</td>\n",
       "      <td>1.233333</td>\n",
       "      <td>1186.763333</td>\n",
       "    </tr>\n",
       "    <tr>\n",
       "      <th>std</th>\n",
       "      <td>280421.371240</td>\n",
       "      <td>26411.336491</td>\n",
       "      <td>1.334743</td>\n",
       "      <td>9.478234</td>\n",
       "      <td>2.247545</td>\n",
       "      <td>838.143032</td>\n",
       "      <td>1.757608</td>\n",
       "      <td>688.632138</td>\n",
       "    </tr>\n",
       "    <tr>\n",
       "      <th>min</th>\n",
       "      <td>22885.000000</td>\n",
       "      <td>10246.000000</td>\n",
       "      <td>0.000000</td>\n",
       "      <td>0.000000</td>\n",
       "      <td>0.000000</td>\n",
       "      <td>0.000000</td>\n",
       "      <td>0.000000</td>\n",
       "      <td>10.000000</td>\n",
       "    </tr>\n",
       "    <tr>\n",
       "      <th>25%</th>\n",
       "      <td>308358.000000</td>\n",
       "      <td>23571.250000</td>\n",
       "      <td>1.000000</td>\n",
       "      <td>0.000000</td>\n",
       "      <td>0.750000</td>\n",
       "      <td>0.000000</td>\n",
       "      <td>0.000000</td>\n",
       "      <td>611.250000</td>\n",
       "    </tr>\n",
       "    <tr>\n",
       "      <th>50%</th>\n",
       "      <td>553675.000000</td>\n",
       "      <td>38967.000000</td>\n",
       "      <td>2.000000</td>\n",
       "      <td>9.000000</td>\n",
       "      <td>2.000000</td>\n",
       "      <td>313.500000</td>\n",
       "      <td>0.000000</td>\n",
       "      <td>1152.000000</td>\n",
       "    </tr>\n",
       "    <tr>\n",
       "      <th>75%</th>\n",
       "      <td>804120.250000</td>\n",
       "      <td>73245.000000</td>\n",
       "      <td>3.000000</td>\n",
       "      <td>19.000000</td>\n",
       "      <td>4.000000</td>\n",
       "      <td>1524.750000</td>\n",
       "      <td>2.250000</td>\n",
       "      <td>1778.000000</td>\n",
       "    </tr>\n",
       "    <tr>\n",
       "      <th>max</th>\n",
       "      <td>999480.000000</td>\n",
       "      <td>98653.000000</td>\n",
       "      <td>9.000000</td>\n",
       "      <td>27.000000</td>\n",
       "      <td>21.000000</td>\n",
       "      <td>2480.000000</td>\n",
       "      <td>5.000000</td>\n",
       "      <td>2395.000000</td>\n",
       "    </tr>\n",
       "  </tbody>\n",
       "</table>\n",
       "</div>"
      ],
      "text/plain": [
       "          session_id   customer_id  session_projects_added  \\\n",
       "count     300.000000    300.000000              300.000000   \n",
       "mean   530643.296667  44956.766667                1.620000   \n",
       "std    280421.371240  26411.336491                1.334743   \n",
       "min     22885.000000  10246.000000                0.000000   \n",
       "25%    308358.000000  23571.250000                1.000000   \n",
       "50%    553675.000000  38967.000000                2.000000   \n",
       "75%    804120.250000  73245.000000                3.000000   \n",
       "max    999480.000000  98653.000000                9.000000   \n",
       "\n",
       "       session_likes_given  session_comments_given  inactive_duration  \\\n",
       "count           300.000000              300.000000         300.000000   \n",
       "mean             10.423333                2.406667         732.933333   \n",
       "std               9.478234                2.247545         838.143032   \n",
       "min               0.000000                0.000000           0.000000   \n",
       "25%               0.000000                0.750000           0.000000   \n",
       "50%               9.000000                2.000000         313.500000   \n",
       "75%              19.000000                4.000000        1524.750000   \n",
       "max              27.000000               21.000000        2480.000000   \n",
       "\n",
       "       bugs_in_session  session_duration  \n",
       "count       300.000000        300.000000  \n",
       "mean          1.233333       1186.763333  \n",
       "std           1.757608        688.632138  \n",
       "min           0.000000         10.000000  \n",
       "25%           0.000000        611.250000  \n",
       "50%           0.000000       1152.000000  \n",
       "75%           2.250000       1778.000000  \n",
       "max           5.000000       2395.000000  "
      ]
     },
     "execution_count": 15,
     "metadata": {},
     "output_type": "execute_result"
    }
   ],
   "source": [
    "project.describe()"
   ]
  },
  {
   "cell_type": "markdown",
   "metadata": {},
   "source": [
    "From the above we can see that the \n",
    "\n",
    "mean of projects added are nearly 2 and maximum of 9\n",
    "mean of likes given are nearly 10 and maximum of 27\n",
    "mean of comments given are nearly 2 and maximum of 21\n",
    "mean of inactive duration is nearly 733 and maximum of 2480\n",
    "mean of bugs during the session is nearly 1 and maximum of 5\n",
    "mean of session duration is nearly 1187 and maximum of 2395\n",
    "\n",
    "            "
   ]
  },
  {
   "cell_type": "markdown",
   "metadata": {},
   "source": [
    "# Converting date from String format to Category"
   ]
  },
  {
   "cell_type": "code",
   "execution_count": 17,
   "metadata": {},
   "outputs": [
    {
     "name": "stdout",
     "output_type": "stream",
     "text": [
      "<class 'pandas.core.frame.DataFrame'>\n",
      "Int64Index: 300 entries, 0 to 299\n",
      "Data columns (total 14 columns):\n",
      " #   Column                  Non-Null Count  Dtype   \n",
      "---  ------                  --------------  -----   \n",
      " 0   session_id              300 non-null    float64 \n",
      " 1   customer_id             300 non-null    float64 \n",
      " 2   login_date              300 non-null    category\n",
      " 3   projects_added          300 non-null    object  \n",
      " 4   likes_given             300 non-null    object  \n",
      " 5   comment_given           300 non-null    object  \n",
      " 6   inactive_status         300 non-null    object  \n",
      " 7   bug_occured             300 non-null    object  \n",
      " 8   session_projects_added  300 non-null    float64 \n",
      " 9   session_likes_given     300 non-null    float64 \n",
      " 10  session_comments_given  300 non-null    float64 \n",
      " 11  inactive_duration       300 non-null    float64 \n",
      " 12  bugs_in_session         300 non-null    float64 \n",
      " 13  session_duration        300 non-null    float64 \n",
      "dtypes: category(1), float64(8), object(5)\n",
      "memory usage: 34.6+ KB\n"
     ]
    }
   ],
   "source": [
    "project['login_date']= project.login_date.astype('category');\n",
    "project.info();"
   ]
  },
  {
   "cell_type": "markdown",
   "metadata": {},
   "source": [
    "# Finding total session users and unique session users"
   ]
  },
  {
   "cell_type": "code",
   "execution_count": 19,
   "metadata": {},
   "outputs": [
    {
     "name": "stdout",
     "output_type": "stream",
     "text": [
      "300\n",
      "48\n"
     ]
    }
   ],
   "source": [
    "total_session_users = project['customer_id'].count()\n",
    "unique_session_users = project['customer_id'].nunique()\n",
    "print(total_session_users)\n",
    "print(unique_session_users)"
   ]
  },
  {
   "cell_type": "markdown",
   "metadata": {},
   "source": [
    "There are total 300 users and 48 unique users"
   ]
  },
  {
   "cell_type": "markdown",
   "metadata": {},
   "source": [
    "# Boxplot comparison of session_duration AND inactive_duration"
   ]
  },
  {
   "cell_type": "code",
   "execution_count": 20,
   "metadata": {},
   "outputs": [
    {
     "data": {
      "text/plain": [
       "[Text(0, 0, 'session_duration'), Text(0, 0, 'inactive_duration')]"
      ]
     },
     "execution_count": 20,
     "metadata": {},
     "output_type": "execute_result"
    },
    {
     "data": {
      "image/png": "[encoded data removed]",
      "text/plain": [
       "<Figure size 576x576 with 1 Axes>"
      ]
     },
     "metadata": {
      "needs_background": "light"
     },
     "output_type": "display_data"
    }
   ],
   "source": [
    "f,ax=plt.subplots(1,1,constrained_layout=True)\n",
    "f.set_size_inches(8,8)\n",
    "\n",
    "meanpointprops = dict(marker='D', markeredgecolor='black', markerfacecolor='red')\n",
    "\n",
    "\n",
    "data_newD=project[['session_duration','inactive_duration']]\n",
    "data_newD.columns=['session_duration','inactive_duration']\n",
    "\n",
    "list=[data_newD['session_duration'],data_newD['inactive_duration']]\n",
    "bp=ax.boxplot(list,patch_artist=True,showmeans=True,meanprops=meanpointprops,showfliers = False)\n",
    "\n",
    "for i in range(len(bp['boxes'])):\n",
    "    if i==0: \n",
    "        bp['boxes'][i].set(color='red',linewidth=2)\n",
    "        bp['boxes'][i].set(facecolor='yellow')\n",
    "        \n",
    "    elif i==1:\n",
    "          bp['boxes'][i].set(color='red',linewidth=2)\n",
    "          bp['boxes'][i].set(facecolor='blue')\n",
    "        \n",
    "for j in range(len(bp['medians'])):\n",
    "    if j==0:\n",
    "         bp['medians'][j].set(color='red')  \n",
    "    elif j==1:\n",
    "         bp['medians'][j].set(color='white')\n",
    "\n",
    "ax.set_xticklabels(['session_duration','inactive_duration'])"
   ]
  },
  {
   "cell_type": "markdown",
   "metadata": {},
   "source": [
    "# Daily session_duration"
   ]
  },
  {
   "cell_type": "code",
   "execution_count": 37,
   "metadata": {},
   "outputs": [
    {
     "data": {
      "image/png": "[encoded data removed]",
      "text/plain": [
       "<Figure size 360x360 with 1 Axes>"
      ]
     },
     "metadata": {
      "needs_background": "light"
     },
     "output_type": "display_data"
    }
   ],
   "source": [
    "F,ax1=plt.subplots(1,1,figsize=(5,5),constrained_layout=True,sharey=True)\n",
    "\n",
    "b1=ax1.bar(data=project,x='login_date',height='session_duration')\n",
    "ax1.set_title('session_duration')\n",
    "ax1.set_ylim([0,3000])\n",
    "\n",
    "start,end= ax1.get_xlim()\n",
    "ax1.xaxis.set_ticks(np.arange(start, end,2))\n",
    "ax1.tick_params(labelrotation=90)\n"
   ]
  },
  {
   "cell_type": "markdown",
   "metadata": {},
   "source": [
    "From the above,the session_duration there is no much variation for all the days in the month of october"
   ]
  },
  {
   "cell_type": "markdown",
   "metadata": {},
   "source": [
    "# Daily inactive_duration"
   ]
  },
  {
   "cell_type": "code",
   "execution_count": 42,
   "metadata": {},
   "outputs": [
    {
     "data": {
      "image/png": "[encoded data removed]",
      "text/plain": [
       "<Figure size 360x360 with 1 Axes>"
      ]
     },
     "metadata": {
      "needs_background": "light"
     },
     "output_type": "display_data"
    }
   ],
   "source": [
    "F,ax1=plt.subplots(1,1,figsize=(5,5),constrained_layout=True,sharey=True)\n",
    "\n",
    "b1=ax1.bar(data=project,x='login_date',height='inactive_duration',color= 'red')\n",
    "ax1.set_title('inactive_duration')\n",
    "ax1.set_ylim([0,3000])\n",
    "\n",
    "start,end= ax1.get_xlim()\n",
    "ax1.xaxis.set_ticks(np.arange(start, end,2))\n",
    "ax1.tick_params(labelrotation=90)"
   ]
  },
  {
   "cell_type": "markdown",
   "metadata": {},
   "source": [
    "we can see that there is lesser inactive duration at the begining. But there is no particular pattren followed it has peaks some days and troughs some days"
   ]
  },
  {
   "cell_type": "markdown",
   "metadata": {},
   "source": [
    "# converting login_date from string to datetime to extract day of week"
   ]
  },
  {
   "cell_type": "code",
   "execution_count": 54,
   "metadata": {},
   "outputs": [],
   "source": [
    "project['login_date'] = pd.to_datetime(project['login_date'])\n",
    "project['day_of_week'] = project['login_date'].dt.dayofweek"
   ]
  },
  {
   "cell_type": "markdown",
   "metadata": {},
   "source": [
    "# user activity by day of week"
   ]
  },
  {
   "cell_type": "code",
   "execution_count": 78,
   "metadata": {
    "scrolled": true
   },
   "outputs": [
    {
     "data": {
      "text/plain": [
       "Text(0, 0.5, 'Average Count')"
      ]
     },
     "execution_count": 78,
     "metadata": {},
     "output_type": "execute_result"
    },
    {
     "data": {
      "image/png": "[encoded data removed]",
      "text/plain": [
       "<Figure size 3240x1800 with 6 Axes>"
      ]
     },
     "metadata": {
      "needs_background": "light"
     },
     "output_type": "display_data"
    }
   ],
   "source": [
    "fig, (ax1, ax2, ax3, ax4, ax5, ax6) = plt.subplots(1,6, figsize =(45,25))\n",
    "\n",
    "project.groupby('day_of_week').session_projects_added.mean().plot(kind='bar', color='blue', alpha=0.7, edgecolor='g', ax=ax1, rot=0)\n",
    "ax1.set_title('Average Projects Added by Day of Week', fontsize=18)\n",
    "ax1.set_ylabel(\"Average Count\")\n",
    "\n",
    "project.groupby('day_of_week').session_likes_given.mean().plot(kind='bar', color='green', alpha=0.7, edgecolor='g',ax=ax2, rot=0)\n",
    "ax2.set_title('Average Likes Given by Day of Week', fontsize=18)\n",
    "ax2.set_ylabel(\"Average Count\")\n",
    "\n",
    "project.groupby('day_of_week').session_comments_given.mean().plot(kind='bar', color='red', alpha=0.7, edgecolor='g', ax=ax3, rot=0)\n",
    "ax3.set_title('Average Comments Given by Day of Week', fontsize=18)\n",
    "ax3.set_ylabel(\"Average Count\")\n",
    "\n",
    "project.groupby('day_of_week').inactive_duration.mean().plot(kind='bar', color='yellow', ax=ax4, rot=0)\n",
    "ax4.set_title('Average Inactive Duration by Day of Week', fontsize=18)\n",
    "ax4.set_ylabel(\"Average Count\")\n",
    "\n",
    "project.groupby('day_of_week').bugs_in_session.mean().plot(kind='bar', color='darkorange', ax=ax5, rot=0)\n",
    "ax5.set_title('Average Bugs in Session by Day of Week', fontsize=18)\n",
    "ax5.set_ylabel(\"Average Count\")\n",
    "\n",
    "project.groupby('day_of_week').session_duration.mean().plot(kind='bar', color='darkgreen', ax=ax6, rot=0)\n",
    "ax6.set_title('Average Session Duration by Day of Week', fontsize=18)\n",
    "ax6.set_ylabel(\"Average Count\")"
   ]
  },
  {
   "cell_type": "markdown",
   "metadata": {},
   "source": [
    "On Tuesday, more projects were added on average as we can also see on tuesdays the average session duration is also high\n",
    "\n",
    "On saturdays, the average bugs are high which also resulted in high inactive duration on saturday, so it is recommended to improve support during weekends.\n",
    "\n",
    "It can be seen that on tuesdays, there is high average session duration and average inactive duration. So in order to reduce that inactivity it is recommended to develop the recommendation system based on user history to attract users to increase user engagement \n"
   ]
  },
  {
   "cell_type": "markdown",
   "metadata": {},
   "source": [
    "# Average Inactive duration by customer"
   ]
  },
  {
   "cell_type": "code",
   "execution_count": 77,
   "metadata": {
    "scrolled": true
   },
   "outputs": [
    {
     "data": {
      "image/png": "[encoded data removed]",
      "text/plain": [
       "<Figure size 1440x1440 with 1 Axes>"
      ]
     },
     "metadata": {
      "needs_background": "light"
     },
     "output_type": "display_data"
    }
   ],
   "source": [
    "fig, (ax1) = plt.subplots(1,1, figsize =(20,20))\n",
    "\n",
    "project.groupby('customer_id').inactive_duration.mean().plot(kind='bar', ax=ax1, rot=0)\n",
    "ax1.set_title('Average Inactive Duration by customer', fontsize=18)\n",
    "ax1.set_ylabel(\"Average Count\")\n",
    "\n",
    "start,end= ax1.get_xlim()\n",
    "ax1.xaxis.set_ticks(np.arange(start, end))\n",
    "ax1.tick_params(labelrotation=90)"
   ]
  },
  {
   "cell_type": "markdown",
   "metadata": {},
   "source": [
    "Taking the collective feedback from the customers with high inactivity duration and giving some personalised recommendations may improve user engagement"
   ]
  },
  {
   "cell_type": "markdown",
   "metadata": {},
   "source": [
    "# Finding out the active and inactive customers"
   ]
  },
  {
   "cell_type": "code",
   "execution_count": 86,
   "metadata": {},
   "outputs": [
    {
     "data": {
      "text/plain": [
       "29375.0    22\n",
       "23404.0    21\n",
       "38459.0    18\n",
       "40235.0    17\n",
       "87323.0    17\n",
       "40572.0    16\n",
       "73245.0    15\n",
       "14354.0    15\n",
       "87265.0    12\n",
       "51243.0    12\n",
       "23083.0    11\n",
       "73524.0     8\n",
       "12407.0     8\n",
       "23985.0     8\n",
       "43549.0     7\n",
       "34574.0     7\n",
       "96254.0     7\n",
       "43057.0     6\n",
       "29356.0     6\n",
       "98653.0     6\n",
       "12496.0     6\n",
       "12940.0     5\n",
       "43086.0     5\n",
       "23579.0     5\n",
       "32047.0     4\n",
       "80746.0     4\n",
       "10246.0     4\n",
       "93464.0     4\n",
       "39475.0     4\n",
       "24520.0     2\n",
       "23457.0     1\n",
       "68754.0     1\n",
       "76530.0     1\n",
       "92736.0     1\n",
       "19374.0     1\n",
       "29345.0     1\n",
       "43096.0     1\n",
       "46329.0     1\n",
       "82963.0     1\n",
       "43658.0     1\n",
       "20548.0     1\n",
       "19348.0     1\n",
       "23548.0     1\n",
       "93486.0     1\n",
       "23596.0     1\n",
       "33496.0     1\n",
       "98476.0     1\n",
       "98346.0     1\n",
       "Name: customer_id, dtype: int64"
      ]
     },
     "execution_count": 86,
     "metadata": {},
     "output_type": "execute_result"
    }
   ],
   "source": [
    "project['customer_id'].value_counts()"
   ]
  },
  {
   "cell_type": "markdown",
   "metadata": {},
   "source": [
    "By giving the returning customers some benefits like discounts in subscriptions and premium plans, customer loyalty would be increased."
   ]
  }
 ],
 "metadata": {
  "kernelspec": {
   "display_name": "Python 3",
   "language": "python",
   "name": "python3"
  },
  "language_info": {
   "codemirror_mode": {
    "name": "ipython",
    "version": 3
   },
   "file_extension": ".py",
   "mimetype": "text/x-python",
   "name": "python",
   "nbconvert_exporter": "python",
   "pygments_lexer": "ipython3",
   "version": "3.8.3"
  }
 },
 "nbformat": 4,
 "nbformat_minor": 4
}
